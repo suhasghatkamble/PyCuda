{
  "nbformat": 4,
  "nbformat_minor": 0,
  "metadata": {
    "colab": {
      "provenance": [],
      "gpuType": "T4"
    },
    "kernelspec": {
      "name": "python3",
      "display_name": "Python 3"
    },
    "language_info": {
      "name": "python"
    },
    "accelerator": "GPU"
  },
  "cells": [
    {
      "cell_type": "code",
      "execution_count": 1,
      "metadata": {
        "colab": {
          "base_uri": "https://localhost:8080/"
        },
        "id": "IuSqBc1PzPyP",
        "outputId": "06f1ec28-e2ef-4ff1-f2de-94a9db68ba51"
      },
      "outputs": [
        {
          "output_type": "stream",
          "name": "stdout",
          "text": [
            "Collecting pycuda\n",
            "  Downloading pycuda-2024.1.tar.gz (1.7 MB)\n",
            "\u001b[2K     \u001b[90m━━━━━━━━━━━━━━━━━━━━━━━━━━━━━━━━━━━━━━━━\u001b[0m \u001b[32m1.7/1.7 MB\u001b[0m \u001b[31m10.4 MB/s\u001b[0m eta \u001b[36m0:00:00\u001b[0m\n",
            "\u001b[?25h  Installing build dependencies ... \u001b[?25l\u001b[?25hdone\n",
            "  Getting requirements to build wheel ... \u001b[?25l\u001b[?25hdone\n",
            "  Preparing metadata (pyproject.toml) ... \u001b[?25l\u001b[?25hdone\n",
            "Collecting pytools>=2011.2 (from pycuda)\n",
            "  Downloading pytools-2024.1.3-py2.py3-none-any.whl (87 kB)\n",
            "\u001b[2K     \u001b[90m━━━━━━━━━━━━━━━━━━━━━━━━━━━━━━━━━━━━━━━━\u001b[0m \u001b[32m87.4/87.4 kB\u001b[0m \u001b[31m13.5 MB/s\u001b[0m eta \u001b[36m0:00:00\u001b[0m\n",
            "\u001b[?25hCollecting appdirs>=1.4.0 (from pycuda)\n",
            "  Downloading appdirs-1.4.4-py2.py3-none-any.whl (9.6 kB)\n",
            "Collecting mako (from pycuda)\n",
            "  Downloading Mako-1.3.5-py3-none-any.whl (78 kB)\n",
            "\u001b[2K     \u001b[90m━━━━━━━━━━━━━━━━━━━━━━━━━━━━━━━━━━━━━━━━\u001b[0m \u001b[32m78.6/78.6 kB\u001b[0m \u001b[31m11.8 MB/s\u001b[0m eta \u001b[36m0:00:00\u001b[0m\n",
            "\u001b[?25hRequirement already satisfied: platformdirs>=2.2.0 in /usr/local/lib/python3.10/dist-packages (from pytools>=2011.2->pycuda) (4.2.2)\n",
            "Requirement already satisfied: typing-extensions>=4.0 in /usr/local/lib/python3.10/dist-packages (from pytools>=2011.2->pycuda) (4.11.0)\n",
            "Requirement already satisfied: MarkupSafe>=0.9.2 in /usr/local/lib/python3.10/dist-packages (from mako->pycuda) (2.1.5)\n",
            "Building wheels for collected packages: pycuda\n",
            "  Building wheel for pycuda (pyproject.toml) ... \u001b[?25l\u001b[?25hdone\n",
            "  Created wheel for pycuda: filename=pycuda-2024.1-cp310-cp310-linux_x86_64.whl size=661204 sha256=46b46ad71b0be38e7c00bbed4cda7c5c7340242d8b72d976844e06b9b032dac9\n",
            "  Stored in directory: /root/.cache/pip/wheels/12/34/d2/9a349255a4eca3a486d82c79d21e138ce2ccd90f414d9d72b8\n",
            "Successfully built pycuda\n",
            "Installing collected packages: appdirs, pytools, mako, pycuda\n",
            "Successfully installed appdirs-1.4.4 mako-1.3.5 pycuda-2024.1 pytools-2024.1.3\n"
          ]
        }
      ],
      "source": [
        "!pip install pycuda"
      ]
    },
    {
      "cell_type": "code",
      "source": [
        "%%writefile array_addition_pycuda.py\n",
        "import numpy as np\n",
        "import pycuda.driver as cuda\n",
        "import pycuda.autoinit\n",
        "from pycuda.compiler import SourceModule\n",
        "\n",
        "# CUDA kernel code for array addition\n",
        "cuda_code = \"\"\"\n",
        "__global__ void add_arrays(int *a, int *b, int *c, int size) {\n",
        "    int tid = threadIdx.x + blockIdx.x * blockDim.x;\n",
        "\n",
        "    if (tid < size) {\n",
        "        c[tid] = a[tid] + b[tid];\n",
        "    }\n",
        "}\n",
        "\"\"\"\n",
        "\n",
        "# Host data\n",
        "a_host = np.array([1, 2, 3], dtype=np.int32)\n",
        "b_host = np.array([4, 5, 6], dtype=np.int32)\n",
        "size = len(a_host)\n",
        "\n",
        "# Device data\n",
        "a_device = cuda.mem_alloc(a_host.nbytes)\n",
        "b_device = cuda.mem_alloc(b_host.nbytes)\n",
        "c_device = cuda.mem_alloc(a_host.nbytes)\n",
        "\n",
        "# Copy data to device\n",
        "cuda.memcpy_htod(a_device, a_host)\n",
        "cuda.memcpy_htod(b_device, b_host)\n",
        "\n",
        "# Load the CUDA module\n",
        "cuda_module = SourceModule(cuda_code)\n",
        "add_arrays_kernel = cuda_module.get_function(\"add_arrays\")\n",
        "\n",
        "# Set up block and grid dimensions\n",
        "block_dim = (size, 1, 1)\n",
        "grid_dim = (1, 1)\n",
        "\n",
        "# Launch the CUDA kernel\n",
        "add_arrays_kernel(a_device, b_device, c_device, np.int32(size), block=block_dim, grid=grid_dim)\n",
        "\n",
        "# Copy the result back to the host\n",
        "c_host = np.empty_like(a_host)\n",
        "cuda.memcpy_dtoh(c_host, c_device)\n",
        "\n",
        "# Display the result\n",
        "print(\"Array A: \", a_host)\n",
        "print(\"Array B: \", b_host)\n",
        "print(\"Result Array C: \", c_host)\n",
        "\n"
      ],
      "metadata": {
        "colab": {
          "base_uri": "https://localhost:8080/"
        },
        "id": "Wf5v3xEY0fTp",
        "outputId": "93596d47-8a59-46b7-ebae-ec195c8309e6"
      },
      "execution_count": 4,
      "outputs": [
        {
          "output_type": "stream",
          "name": "stdout",
          "text": [
            "Overwriting array_addition_pycuda.py\n"
          ]
        }
      ]
    },
    {
      "cell_type": "code",
      "source": [
        "!python array_addition_pycuda.py"
      ],
      "metadata": {
        "colab": {
          "base_uri": "https://localhost:8080/"
        },
        "id": "VMYu_CDg0oPg",
        "outputId": "41c77732-90ee-4c79-d2ae-58da65a82458"
      },
      "execution_count": 5,
      "outputs": [
        {
          "output_type": "stream",
          "name": "stdout",
          "text": [
            "Array A:  [1 2 3]\n",
            "Array B:  [4 5 6]\n",
            "Result Array C:  [5 7 9]\n"
          ]
        }
      ]
    }
  ]
}